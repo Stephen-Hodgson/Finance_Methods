{
 "cells": [
  {
   "cell_type": "markdown",
   "metadata": {},
   "source": [
    "# Measuring Volatility"
   ]
  },
  {
   "cell_type": "code",
   "execution_count": 143,
   "metadata": {},
   "outputs": [],
   "source": [
    "#Import relevant packages\n",
    "\n",
    "import  numpy as np\n",
    "from scipy.stats import norm\n",
    "import matplotlib.pyplot as plt"
   ]
  },
  {
   "cell_type": "markdown",
   "metadata": {},
   "source": [
    "1. Effects of Sampling Frequency"
   ]
  },
  {
   "cell_type": "markdown",
   "metadata": {},
   "source": [
    "First I wish to investigate how the frequency of measurements affects the measured volatility. I do this by creating $n = \\frac{T}{dt}$ iid normally distributed returns $R(t_i) \\sim N(\\mu dt, \\sigma \\sqrt{dt})$ for discrete time intervals $t_i$. I measure the volatility as $\\hat{\\sigma} = \\sqrt{\\frac{1}{T} \\sum{(R_{i-1} - \\bar{R_i}) ^ 2}}$. From the Fisher Information I expect $se(\\hat{\\sigma}) = \\sqrt{\\frac{\\sigma^2 dt}{2T}} \\propto \\sqrt{dt}$. So I expect a lower error in the estimate of the volatility when sampling frequency is higher."
   ]
  },
  {
   "cell_type": "code",
   "execution_count": 144,
   "metadata": {},
   "outputs": [
    {
     "name": "stdout",
     "output_type": "stream",
     "text": [
      "dt = 0.01, n = 10000, volatility estimate = 1.0118828910658277\n",
      "measured se = 0.007090478267759777\n",
      "analytical se = 0.007071067811865475\n",
      "\n",
      "dt = 0.1, n = 1000, volatility estimate = 0.9571436139860721\n",
      "measured se = 0.022603207868817442\n",
      "analytical se = 0.022360679774997897\n",
      "\n",
      "dt = 1, n = 100, volatility estimate = 0.9224926381412172\n",
      "measured se = 0.07026661504333274\n",
      "analytical se = 0.07071067811865475\n",
      "\n",
      "dt = 10, n = 10, volatility estimate = 0.9891316627557853\n",
      "measured se = 0.22734070773198062\n",
      "analytical se = 0.22360679774997896\n",
      "\n"
     ]
    }
   ],
   "source": [
    "B = 2000\n",
    "dts = [0.01, 0.1, 1, 10]\n",
    "mu = 0.4\n",
    "vol = 1\n",
    "T = 100\n",
    "for dt in dts:\n",
    "    n = int(T/dt)\n",
    "    R = norm.rvs(mu * dt, vol * np.sqrt(dt), (n, B))\n",
    "\n",
    "    volhats = np.std(R, ddof=1, axis = 0)\n",
    "\n",
    "    volhat = volhats[0] / np.sqrt(dt)\n",
    "    volse = np.std(volhats, ddof=1) / np.sqrt(dt)\n",
    "    anase = np.sqrt(vol ** 2 * dt/ (2 * T))\n",
    "    \n",
    "    print(\"dt = {}, n = {}, volatility estimate = {}\\nmeasured se = {}\\nanalytical se = {}\\n\".format(dt, n, volhat, volse, anase))\n",
    "    "
   ]
  },
  {
   "cell_type": "markdown",
   "metadata": {},
   "source": [
    "Results are as suspected in the hypothesis"
   ]
  },
  {
   "cell_type": "markdown",
   "metadata": {},
   "source": [
    "2. Next I want to test different methods to measure real market volatilities"
   ]
  },
  {
   "cell_type": "code",
   "execution_count": null,
   "metadata": {},
   "outputs": [],
   "source": []
  }
 ],
 "metadata": {
  "kernelspec": {
   "display_name": "base",
   "language": "python",
   "name": "python3"
  },
  "language_info": {
   "codemirror_mode": {
    "name": "ipython",
    "version": 3
   },
   "file_extension": ".py",
   "mimetype": "text/x-python",
   "name": "python",
   "nbconvert_exporter": "python",
   "pygments_lexer": "ipython3",
   "version": "3.10.9"
  }
 },
 "nbformat": 4,
 "nbformat_minor": 2
}
